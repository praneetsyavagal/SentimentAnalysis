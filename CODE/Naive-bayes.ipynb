{
 "cells": [
  {
   "cell_type": "code",
   "execution_count": 2,
   "metadata": {
    "collapsed": true
   },
   "outputs": [],
   "source": [
    "#imports\n",
    "import pandas as pd\n",
    "import numpy as np\n",
    "from bs4 import BeautifulSoup\n",
    "import re\n",
    "import nltk\n",
    "import pandas as pd\n",
    "#nltk.download()\n",
    "from nltk.corpus import stopwords # Import the stop word list\n",
    "from nltk.tokenize import word_tokenize\n",
    "from nltk.stem import WordNetLemmatizer\n",
    "\n",
    "lemmatizer=WordNetLemmatizer()\n",
    "import matplotlib.pyplot as plt"
   ]
  },
  {
   "cell_type": "code",
   "execution_count": 3,
   "metadata": {
    "collapsed": true
   },
   "outputs": [],
   "source": [
    "data = pd.read_csv(\"imdb_master.csv\", encoding=\"ISO-8859-1\")"
   ]
  },
  {
   "cell_type": "code",
   "execution_count": 4,
   "metadata": {},
   "outputs": [
    {
     "data": {
      "text/html": [
       "<div>\n",
       "<style>\n",
       "    .dataframe thead tr:only-child th {\n",
       "        text-align: right;\n",
       "    }\n",
       "\n",
       "    .dataframe thead th {\n",
       "        text-align: left;\n",
       "    }\n",
       "\n",
       "    .dataframe tbody tr th {\n",
       "        vertical-align: top;\n",
       "    }\n",
       "</style>\n",
       "<table border=\"1\" class=\"dataframe\">\n",
       "  <thead>\n",
       "    <tr style=\"text-align: right;\">\n",
       "      <th></th>\n",
       "      <th>Unnamed: 0</th>\n",
       "      <th>type</th>\n",
       "      <th>review</th>\n",
       "      <th>label</th>\n",
       "      <th>file</th>\n",
       "    </tr>\n",
       "  </thead>\n",
       "  <tbody>\n",
       "    <tr>\n",
       "      <th>0</th>\n",
       "      <td>0</td>\n",
       "      <td>test</td>\n",
       "      <td>Once again Mr. Costner has dragged out a movie...</td>\n",
       "      <td>neg</td>\n",
       "      <td>0_2.txt</td>\n",
       "    </tr>\n",
       "    <tr>\n",
       "      <th>1</th>\n",
       "      <td>1</td>\n",
       "      <td>test</td>\n",
       "      <td>This is an example of why the majority of acti...</td>\n",
       "      <td>neg</td>\n",
       "      <td>10000_4.txt</td>\n",
       "    </tr>\n",
       "    <tr>\n",
       "      <th>2</th>\n",
       "      <td>2</td>\n",
       "      <td>test</td>\n",
       "      <td>First of all I hate those moronic rappers, who...</td>\n",
       "      <td>neg</td>\n",
       "      <td>10001_1.txt</td>\n",
       "    </tr>\n",
       "    <tr>\n",
       "      <th>3</th>\n",
       "      <td>3</td>\n",
       "      <td>test</td>\n",
       "      <td>Not even the Beatles could write songs everyon...</td>\n",
       "      <td>neg</td>\n",
       "      <td>10002_3.txt</td>\n",
       "    </tr>\n",
       "    <tr>\n",
       "      <th>4</th>\n",
       "      <td>4</td>\n",
       "      <td>test</td>\n",
       "      <td>Brass pictures (movies is not a fitting word f...</td>\n",
       "      <td>neg</td>\n",
       "      <td>10003_3.txt</td>\n",
       "    </tr>\n",
       "    <tr>\n",
       "      <th>5</th>\n",
       "      <td>5</td>\n",
       "      <td>test</td>\n",
       "      <td>A funny thing happened to me while watching \"M...</td>\n",
       "      <td>neg</td>\n",
       "      <td>10004_2.txt</td>\n",
       "    </tr>\n",
       "    <tr>\n",
       "      <th>6</th>\n",
       "      <td>6</td>\n",
       "      <td>test</td>\n",
       "      <td>This German horror film has to be one of the w...</td>\n",
       "      <td>neg</td>\n",
       "      <td>10005_2.txt</td>\n",
       "    </tr>\n",
       "    <tr>\n",
       "      <th>7</th>\n",
       "      <td>7</td>\n",
       "      <td>test</td>\n",
       "      <td>Being a long-time fan of Japanese film, I expe...</td>\n",
       "      <td>neg</td>\n",
       "      <td>10006_2.txt</td>\n",
       "    </tr>\n",
       "    <tr>\n",
       "      <th>8</th>\n",
       "      <td>8</td>\n",
       "      <td>test</td>\n",
       "      <td>\"Tokyo Eyes\" tells of a 17 year old Japanese g...</td>\n",
       "      <td>neg</td>\n",
       "      <td>10007_4.txt</td>\n",
       "    </tr>\n",
       "    <tr>\n",
       "      <th>9</th>\n",
       "      <td>9</td>\n",
       "      <td>test</td>\n",
       "      <td>Wealthy horse ranchers in Buenos Aires have a ...</td>\n",
       "      <td>neg</td>\n",
       "      <td>10008_4.txt</td>\n",
       "    </tr>\n",
       "    <tr>\n",
       "      <th>10</th>\n",
       "      <td>10</td>\n",
       "      <td>test</td>\n",
       "      <td>Cage plays a drunk and gets high critically pr...</td>\n",
       "      <td>neg</td>\n",
       "      <td>10009_3.txt</td>\n",
       "    </tr>\n",
       "    <tr>\n",
       "      <th>11</th>\n",
       "      <td>11</td>\n",
       "      <td>test</td>\n",
       "      <td>First of all, I would like to say that I am a ...</td>\n",
       "      <td>neg</td>\n",
       "      <td>1000_3.txt</td>\n",
       "    </tr>\n",
       "    <tr>\n",
       "      <th>12</th>\n",
       "      <td>12</td>\n",
       "      <td>test</td>\n",
       "      <td>So tell me - what serious boozer drinks Budwei...</td>\n",
       "      <td>neg</td>\n",
       "      <td>10010_2.txt</td>\n",
       "    </tr>\n",
       "    <tr>\n",
       "      <th>13</th>\n",
       "      <td>13</td>\n",
       "      <td>test</td>\n",
       "      <td>A big disappointment for what was touted as an...</td>\n",
       "      <td>neg</td>\n",
       "      <td>10011_1.txt</td>\n",
       "    </tr>\n",
       "    <tr>\n",
       "      <th>14</th>\n",
       "      <td>14</td>\n",
       "      <td>test</td>\n",
       "      <td>This film is absolutely appalling and awful. I...</td>\n",
       "      <td>neg</td>\n",
       "      <td>10012_1.txt</td>\n",
       "    </tr>\n",
       "    <tr>\n",
       "      <th>15</th>\n",
       "      <td>15</td>\n",
       "      <td>test</td>\n",
       "      <td>Here's a decidedly average Italian post apocal...</td>\n",
       "      <td>neg</td>\n",
       "      <td>10013_4.txt</td>\n",
       "    </tr>\n",
       "    <tr>\n",
       "      <th>16</th>\n",
       "      <td>16</td>\n",
       "      <td>test</td>\n",
       "      <td>At the bottom end of the apocalypse movie scal...</td>\n",
       "      <td>neg</td>\n",
       "      <td>10014_2.txt</td>\n",
       "    </tr>\n",
       "    <tr>\n",
       "      <th>17</th>\n",
       "      <td>17</td>\n",
       "      <td>test</td>\n",
       "      <td>Earth has been destroyed in a nuclear holocaus...</td>\n",
       "      <td>neg</td>\n",
       "      <td>10015_4.txt</td>\n",
       "    </tr>\n",
       "    <tr>\n",
       "      <th>18</th>\n",
       "      <td>18</td>\n",
       "      <td>test</td>\n",
       "      <td>Many people are standing in front of the house...</td>\n",
       "      <td>neg</td>\n",
       "      <td>10016_3.txt</td>\n",
       "    </tr>\n",
       "    <tr>\n",
       "      <th>19</th>\n",
       "      <td>19</td>\n",
       "      <td>test</td>\n",
       "      <td>New York family is the last in their neighborh...</td>\n",
       "      <td>neg</td>\n",
       "      <td>10017_1.txt</td>\n",
       "    </tr>\n",
       "    <tr>\n",
       "      <th>20</th>\n",
       "      <td>20</td>\n",
       "      <td>test</td>\n",
       "      <td>The best thing about \"The Prey\" is the tag lin...</td>\n",
       "      <td>neg</td>\n",
       "      <td>10018_1.txt</td>\n",
       "    </tr>\n",
       "    <tr>\n",
       "      <th>21</th>\n",
       "      <td>21</td>\n",
       "      <td>test</td>\n",
       "      <td>This is truly, without exaggerating, one of th...</td>\n",
       "      <td>neg</td>\n",
       "      <td>10019_1.txt</td>\n",
       "    </tr>\n",
       "    <tr>\n",
       "      <th>22</th>\n",
       "      <td>22</td>\n",
       "      <td>test</td>\n",
       "      <td>I'm a huge fan of both Emily Watson (Breaking ...</td>\n",
       "      <td>neg</td>\n",
       "      <td>1001_4.txt</td>\n",
       "    </tr>\n",
       "    <tr>\n",
       "      <th>23</th>\n",
       "      <td>23</td>\n",
       "      <td>test</td>\n",
       "      <td>Sure, most of the slasher films of the 1980's ...</td>\n",
       "      <td>neg</td>\n",
       "      <td>10020_1.txt</td>\n",
       "    </tr>\n",
       "    <tr>\n",
       "      <th>24</th>\n",
       "      <td>24</td>\n",
       "      <td>test</td>\n",
       "      <td>I think that would have been a more appropriat...</td>\n",
       "      <td>neg</td>\n",
       "      <td>10021_3.txt</td>\n",
       "    </tr>\n",
       "    <tr>\n",
       "      <th>25</th>\n",
       "      <td>25</td>\n",
       "      <td>test</td>\n",
       "      <td>1980 was certainly a year for bad backwoods sl...</td>\n",
       "      <td>neg</td>\n",
       "      <td>10022_4.txt</td>\n",
       "    </tr>\n",
       "    <tr>\n",
       "      <th>26</th>\n",
       "      <td>26</td>\n",
       "      <td>test</td>\n",
       "      <td>Everything everyone has said already pretty mu...</td>\n",
       "      <td>neg</td>\n",
       "      <td>10023_4.txt</td>\n",
       "    </tr>\n",
       "    <tr>\n",
       "      <th>27</th>\n",
       "      <td>27</td>\n",
       "      <td>test</td>\n",
       "      <td>Uhhh ... so, did they even have writers for th...</td>\n",
       "      <td>neg</td>\n",
       "      <td>10024_3.txt</td>\n",
       "    </tr>\n",
       "    <tr>\n",
       "      <th>28</th>\n",
       "      <td>28</td>\n",
       "      <td>test</td>\n",
       "      <td>Oh yeah, this one is definitely a strong conte...</td>\n",
       "      <td>neg</td>\n",
       "      <td>10025_2.txt</td>\n",
       "    </tr>\n",
       "    <tr>\n",
       "      <th>29</th>\n",
       "      <td>29</td>\n",
       "      <td>test</td>\n",
       "      <td>Supercraptastic slasher fare, which feels over...</td>\n",
       "      <td>neg</td>\n",
       "      <td>10026_3.txt</td>\n",
       "    </tr>\n",
       "    <tr>\n",
       "      <th>...</th>\n",
       "      <td>...</td>\n",
       "      <td>...</td>\n",
       "      <td>...</td>\n",
       "      <td>...</td>\n",
       "      <td>...</td>\n",
       "    </tr>\n",
       "    <tr>\n",
       "      <th>99970</th>\n",
       "      <td>99970</td>\n",
       "      <td>train</td>\n",
       "      <td>This is without a doubt the worst movie I have...</td>\n",
       "      <td>unsup</td>\n",
       "      <td>9975_0.txt</td>\n",
       "    </tr>\n",
       "    <tr>\n",
       "      <th>99971</th>\n",
       "      <td>99971</td>\n",
       "      <td>train</td>\n",
       "      <td>Note: I've only seen the MST version of this f...</td>\n",
       "      <td>unsup</td>\n",
       "      <td>9976_0.txt</td>\n",
       "    </tr>\n",
       "    <tr>\n",
       "      <th>99972</th>\n",
       "      <td>99972</td>\n",
       "      <td>train</td>\n",
       "      <td>I've seen the MST3K version of this movie unde...</td>\n",
       "      <td>unsup</td>\n",
       "      <td>9977_0.txt</td>\n",
       "    </tr>\n",
       "    <tr>\n",
       "      <th>99973</th>\n",
       "      <td>99973</td>\n",
       "      <td>train</td>\n",
       "      <td>This disillusioning tale of time travel is mor...</td>\n",
       "      <td>unsup</td>\n",
       "      <td>9978_0.txt</td>\n",
       "    </tr>\n",
       "    <tr>\n",
       "      <th>99974</th>\n",
       "      <td>99974</td>\n",
       "      <td>train</td>\n",
       "      <td>All right, enough with the MST3K-ing, people. ...</td>\n",
       "      <td>unsup</td>\n",
       "      <td>9979_0.txt</td>\n",
       "    </tr>\n",
       "    <tr>\n",
       "      <th>99975</th>\n",
       "      <td>99975</td>\n",
       "      <td>train</td>\n",
       "      <td>I saw this in Pittsburgh PA in a small theater...</td>\n",
       "      <td>unsup</td>\n",
       "      <td>997_0.txt</td>\n",
       "    </tr>\n",
       "    <tr>\n",
       "      <th>99976</th>\n",
       "      <td>99976</td>\n",
       "      <td>train</td>\n",
       "      <td>And then filmed during each actors day off at ...</td>\n",
       "      <td>unsup</td>\n",
       "      <td>9980_0.txt</td>\n",
       "    </tr>\n",
       "    <tr>\n",
       "      <th>99977</th>\n",
       "      <td>99977</td>\n",
       "      <td>train</td>\n",
       "      <td>Hey, it's not a time machine, it's a \"time tra...</td>\n",
       "      <td>unsup</td>\n",
       "      <td>9981_0.txt</td>\n",
       "    </tr>\n",
       "    <tr>\n",
       "      <th>99978</th>\n",
       "      <td>99978</td>\n",
       "      <td>train</td>\n",
       "      <td>This backyard movie has it all: time travel, a...</td>\n",
       "      <td>unsup</td>\n",
       "      <td>9982_0.txt</td>\n",
       "    </tr>\n",
       "    <tr>\n",
       "      <th>99979</th>\n",
       "      <td>99979</td>\n",
       "      <td>train</td>\n",
       "      <td>It was a true labor to sit through this \"movie...</td>\n",
       "      <td>unsup</td>\n",
       "      <td>9983_0.txt</td>\n",
       "    </tr>\n",
       "    <tr>\n",
       "      <th>99980</th>\n",
       "      <td>99980</td>\n",
       "      <td>train</td>\n",
       "      <td>The comments already posted for this film do n...</td>\n",
       "      <td>unsup</td>\n",
       "      <td>9984_0.txt</td>\n",
       "    </tr>\n",
       "    <tr>\n",
       "      <th>99981</th>\n",
       "      <td>99981</td>\n",
       "      <td>train</td>\n",
       "      <td>One of the funnier MST3K experiments. This was...</td>\n",
       "      <td>unsup</td>\n",
       "      <td>9985_0.txt</td>\n",
       "    </tr>\n",
       "    <tr>\n",
       "      <th>99982</th>\n",
       "      <td>99982</td>\n",
       "      <td>train</td>\n",
       "      <td>Time Chasers is probably one of the better mov...</td>\n",
       "      <td>unsup</td>\n",
       "      <td>9986_0.txt</td>\n",
       "    </tr>\n",
       "    <tr>\n",
       "      <th>99983</th>\n",
       "      <td>99983</td>\n",
       "      <td>train</td>\n",
       "      <td>... to dull the incredible pain this stinkmast...</td>\n",
       "      <td>unsup</td>\n",
       "      <td>9987_0.txt</td>\n",
       "    </tr>\n",
       "    <tr>\n",
       "      <th>99984</th>\n",
       "      <td>99984</td>\n",
       "      <td>train</td>\n",
       "      <td>I feel badly for the actors and directors of t...</td>\n",
       "      <td>unsup</td>\n",
       "      <td>9988_0.txt</td>\n",
       "    </tr>\n",
       "    <tr>\n",
       "      <th>99985</th>\n",
       "      <td>99985</td>\n",
       "      <td>train</td>\n",
       "      <td>I'm not really sure they were trying to make a...</td>\n",
       "      <td>unsup</td>\n",
       "      <td>9989_0.txt</td>\n",
       "    </tr>\n",
       "    <tr>\n",
       "      <th>99986</th>\n",
       "      <td>99986</td>\n",
       "      <td>train</td>\n",
       "      <td>I got a screener of this film a couple of week...</td>\n",
       "      <td>unsup</td>\n",
       "      <td>998_0.txt</td>\n",
       "    </tr>\n",
       "    <tr>\n",
       "      <th>99987</th>\n",
       "      <td>99987</td>\n",
       "      <td>train</td>\n",
       "      <td>****SPOILERS****SPOILERS****SPOILERS****SPOILE...</td>\n",
       "      <td>unsup</td>\n",
       "      <td>9990_0.txt</td>\n",
       "    </tr>\n",
       "    <tr>\n",
       "      <th>99988</th>\n",
       "      <td>99988</td>\n",
       "      <td>train</td>\n",
       "      <td>This is a really dumb movie, with a very low b...</td>\n",
       "      <td>unsup</td>\n",
       "      <td>9991_0.txt</td>\n",
       "    </tr>\n",
       "    <tr>\n",
       "      <th>99989</th>\n",
       "      <td>99989</td>\n",
       "      <td>train</td>\n",
       "      <td>Nick Miller has developed a means of time trav...</td>\n",
       "      <td>unsup</td>\n",
       "      <td>9992_0.txt</td>\n",
       "    </tr>\n",
       "    <tr>\n",
       "      <th>99990</th>\n",
       "      <td>99990</td>\n",
       "      <td>train</td>\n",
       "      <td>That's what the director of this film had to b...</td>\n",
       "      <td>unsup</td>\n",
       "      <td>9993_0.txt</td>\n",
       "    </tr>\n",
       "    <tr>\n",
       "      <th>99991</th>\n",
       "      <td>99991</td>\n",
       "      <td>train</td>\n",
       "      <td>Think of this one as Back to the Future...exce...</td>\n",
       "      <td>unsup</td>\n",
       "      <td>9994_0.txt</td>\n",
       "    </tr>\n",
       "    <tr>\n",
       "      <th>99992</th>\n",
       "      <td>99992</td>\n",
       "      <td>train</td>\n",
       "      <td>What happened to the 'second' hero who went ba...</td>\n",
       "      <td>unsup</td>\n",
       "      <td>9995_0.txt</td>\n",
       "    </tr>\n",
       "    <tr>\n",
       "      <th>99993</th>\n",
       "      <td>99993</td>\n",
       "      <td>train</td>\n",
       "      <td>Tangents (better known to MST3K watchers as Ti...</td>\n",
       "      <td>unsup</td>\n",
       "      <td>9996_0.txt</td>\n",
       "    </tr>\n",
       "    <tr>\n",
       "      <th>99994</th>\n",
       "      <td>99994</td>\n",
       "      <td>train</td>\n",
       "      <td>Time Chasers joins various films that have bee...</td>\n",
       "      <td>unsup</td>\n",
       "      <td>9997_0.txt</td>\n",
       "    </tr>\n",
       "    <tr>\n",
       "      <th>99995</th>\n",
       "      <td>99995</td>\n",
       "      <td>train</td>\n",
       "      <td>Delightfully awful! Made by David Giancola, a ...</td>\n",
       "      <td>unsup</td>\n",
       "      <td>9998_0.txt</td>\n",
       "    </tr>\n",
       "    <tr>\n",
       "      <th>99996</th>\n",
       "      <td>99996</td>\n",
       "      <td>train</td>\n",
       "      <td>Watching Time Chasers, it obvious that it was ...</td>\n",
       "      <td>unsup</td>\n",
       "      <td>9999_0.txt</td>\n",
       "    </tr>\n",
       "    <tr>\n",
       "      <th>99997</th>\n",
       "      <td>99997</td>\n",
       "      <td>train</td>\n",
       "      <td>At the beginning we can see members of Troma t...</td>\n",
       "      <td>unsup</td>\n",
       "      <td>999_0.txt</td>\n",
       "    </tr>\n",
       "    <tr>\n",
       "      <th>99998</th>\n",
       "      <td>99998</td>\n",
       "      <td>train</td>\n",
       "      <td>The movie was incredible, ever since I saw it ...</td>\n",
       "      <td>unsup</td>\n",
       "      <td>99_0.txt</td>\n",
       "    </tr>\n",
       "    <tr>\n",
       "      <th>99999</th>\n",
       "      <td>99999</td>\n",
       "      <td>train</td>\n",
       "      <td>TCM came through by acquiring this wonderful, ...</td>\n",
       "      <td>unsup</td>\n",
       "      <td>9_0.txt</td>\n",
       "    </tr>\n",
       "  </tbody>\n",
       "</table>\n",
       "<p>100000 rows × 5 columns</p>\n",
       "</div>"
      ],
      "text/plain": [
       "       Unnamed: 0   type                                             review  \\\n",
       "0               0   test  Once again Mr. Costner has dragged out a movie...   \n",
       "1               1   test  This is an example of why the majority of acti...   \n",
       "2               2   test  First of all I hate those moronic rappers, who...   \n",
       "3               3   test  Not even the Beatles could write songs everyon...   \n",
       "4               4   test  Brass pictures (movies is not a fitting word f...   \n",
       "5               5   test  A funny thing happened to me while watching \"M...   \n",
       "6               6   test  This German horror film has to be one of the w...   \n",
       "7               7   test  Being a long-time fan of Japanese film, I expe...   \n",
       "8               8   test  \"Tokyo Eyes\" tells of a 17 year old Japanese g...   \n",
       "9               9   test  Wealthy horse ranchers in Buenos Aires have a ...   \n",
       "10             10   test  Cage plays a drunk and gets high critically pr...   \n",
       "11             11   test  First of all, I would like to say that I am a ...   \n",
       "12             12   test  So tell me - what serious boozer drinks Budwei...   \n",
       "13             13   test  A big disappointment for what was touted as an...   \n",
       "14             14   test  This film is absolutely appalling and awful. I...   \n",
       "15             15   test  Here's a decidedly average Italian post apocal...   \n",
       "16             16   test  At the bottom end of the apocalypse movie scal...   \n",
       "17             17   test  Earth has been destroyed in a nuclear holocaus...   \n",
       "18             18   test  Many people are standing in front of the house...   \n",
       "19             19   test  New York family is the last in their neighborh...   \n",
       "20             20   test  The best thing about \"The Prey\" is the tag lin...   \n",
       "21             21   test  This is truly, without exaggerating, one of th...   \n",
       "22             22   test  I'm a huge fan of both Emily Watson (Breaking ...   \n",
       "23             23   test  Sure, most of the slasher films of the 1980's ...   \n",
       "24             24   test  I think that would have been a more appropriat...   \n",
       "25             25   test  1980 was certainly a year for bad backwoods sl...   \n",
       "26             26   test  Everything everyone has said already pretty mu...   \n",
       "27             27   test  Uhhh ... so, did they even have writers for th...   \n",
       "28             28   test  Oh yeah, this one is definitely a strong conte...   \n",
       "29             29   test  Supercraptastic slasher fare, which feels over...   \n",
       "...           ...    ...                                                ...   \n",
       "99970       99970  train  This is without a doubt the worst movie I have...   \n",
       "99971       99971  train  Note: I've only seen the MST version of this f...   \n",
       "99972       99972  train  I've seen the MST3K version of this movie unde...   \n",
       "99973       99973  train  This disillusioning tale of time travel is mor...   \n",
       "99974       99974  train  All right, enough with the MST3K-ing, people. ...   \n",
       "99975       99975  train  I saw this in Pittsburgh PA in a small theater...   \n",
       "99976       99976  train  And then filmed during each actors day off at ...   \n",
       "99977       99977  train  Hey, it's not a time machine, it's a \"time tra...   \n",
       "99978       99978  train  This backyard movie has it all: time travel, a...   \n",
       "99979       99979  train  It was a true labor to sit through this \"movie...   \n",
       "99980       99980  train  The comments already posted for this film do n...   \n",
       "99981       99981  train  One of the funnier MST3K experiments. This was...   \n",
       "99982       99982  train  Time Chasers is probably one of the better mov...   \n",
       "99983       99983  train  ... to dull the incredible pain this stinkmast...   \n",
       "99984       99984  train  I feel badly for the actors and directors of t...   \n",
       "99985       99985  train  I'm not really sure they were trying to make a...   \n",
       "99986       99986  train  I got a screener of this film a couple of week...   \n",
       "99987       99987  train  ****SPOILERS****SPOILERS****SPOILERS****SPOILE...   \n",
       "99988       99988  train  This is a really dumb movie, with a very low b...   \n",
       "99989       99989  train  Nick Miller has developed a means of time trav...   \n",
       "99990       99990  train  That's what the director of this film had to b...   \n",
       "99991       99991  train  Think of this one as Back to the Future...exce...   \n",
       "99992       99992  train  What happened to the 'second' hero who went ba...   \n",
       "99993       99993  train  Tangents (better known to MST3K watchers as Ti...   \n",
       "99994       99994  train  Time Chasers joins various films that have bee...   \n",
       "99995       99995  train  Delightfully awful! Made by David Giancola, a ...   \n",
       "99996       99996  train  Watching Time Chasers, it obvious that it was ...   \n",
       "99997       99997  train  At the beginning we can see members of Troma t...   \n",
       "99998       99998  train  The movie was incredible, ever since I saw it ...   \n",
       "99999       99999  train  TCM came through by acquiring this wonderful, ...   \n",
       "\n",
       "       label         file  \n",
       "0        neg      0_2.txt  \n",
       "1        neg  10000_4.txt  \n",
       "2        neg  10001_1.txt  \n",
       "3        neg  10002_3.txt  \n",
       "4        neg  10003_3.txt  \n",
       "5        neg  10004_2.txt  \n",
       "6        neg  10005_2.txt  \n",
       "7        neg  10006_2.txt  \n",
       "8        neg  10007_4.txt  \n",
       "9        neg  10008_4.txt  \n",
       "10       neg  10009_3.txt  \n",
       "11       neg   1000_3.txt  \n",
       "12       neg  10010_2.txt  \n",
       "13       neg  10011_1.txt  \n",
       "14       neg  10012_1.txt  \n",
       "15       neg  10013_4.txt  \n",
       "16       neg  10014_2.txt  \n",
       "17       neg  10015_4.txt  \n",
       "18       neg  10016_3.txt  \n",
       "19       neg  10017_1.txt  \n",
       "20       neg  10018_1.txt  \n",
       "21       neg  10019_1.txt  \n",
       "22       neg   1001_4.txt  \n",
       "23       neg  10020_1.txt  \n",
       "24       neg  10021_3.txt  \n",
       "25       neg  10022_4.txt  \n",
       "26       neg  10023_4.txt  \n",
       "27       neg  10024_3.txt  \n",
       "28       neg  10025_2.txt  \n",
       "29       neg  10026_3.txt  \n",
       "...      ...          ...  \n",
       "99970  unsup   9975_0.txt  \n",
       "99971  unsup   9976_0.txt  \n",
       "99972  unsup   9977_0.txt  \n",
       "99973  unsup   9978_0.txt  \n",
       "99974  unsup   9979_0.txt  \n",
       "99975  unsup    997_0.txt  \n",
       "99976  unsup   9980_0.txt  \n",
       "99977  unsup   9981_0.txt  \n",
       "99978  unsup   9982_0.txt  \n",
       "99979  unsup   9983_0.txt  \n",
       "99980  unsup   9984_0.txt  \n",
       "99981  unsup   9985_0.txt  \n",
       "99982  unsup   9986_0.txt  \n",
       "99983  unsup   9987_0.txt  \n",
       "99984  unsup   9988_0.txt  \n",
       "99985  unsup   9989_0.txt  \n",
       "99986  unsup    998_0.txt  \n",
       "99987  unsup   9990_0.txt  \n",
       "99988  unsup   9991_0.txt  \n",
       "99989  unsup   9992_0.txt  \n",
       "99990  unsup   9993_0.txt  \n",
       "99991  unsup   9994_0.txt  \n",
       "99992  unsup   9995_0.txt  \n",
       "99993  unsup   9996_0.txt  \n",
       "99994  unsup   9997_0.txt  \n",
       "99995  unsup   9998_0.txt  \n",
       "99996  unsup   9999_0.txt  \n",
       "99997  unsup    999_0.txt  \n",
       "99998  unsup     99_0.txt  \n",
       "99999  unsup      9_0.txt  \n",
       "\n",
       "[100000 rows x 5 columns]"
      ]
     },
     "execution_count": 4,
     "metadata": {},
     "output_type": "execute_result"
    }
   ],
   "source": [
    "data\n"
   ]
  },
  {
   "cell_type": "code",
   "execution_count": 5,
   "metadata": {},
   "outputs": [
    {
     "data": {
      "text/plain": [
       "Index(['Unnamed: 0', 'type', 'review', 'label', 'file'], dtype='object')"
      ]
     },
     "execution_count": 5,
     "metadata": {},
     "output_type": "execute_result"
    }
   ],
   "source": [
    "data.columns"
   ]
  },
  {
   "cell_type": "code",
   "execution_count": 6,
   "metadata": {},
   "outputs": [
    {
     "data": {
      "text/plain": [
       "(100000, 5)"
      ]
     },
     "execution_count": 6,
     "metadata": {},
     "output_type": "execute_result"
    }
   ],
   "source": [
    "data.shape"
   ]
  },
  {
   "cell_type": "code",
   "execution_count": 7,
   "metadata": {},
   "outputs": [
    {
     "data": {
      "text/html": [
       "<div>\n",
       "<style>\n",
       "    .dataframe thead tr:only-child th {\n",
       "        text-align: right;\n",
       "    }\n",
       "\n",
       "    .dataframe thead th {\n",
       "        text-align: left;\n",
       "    }\n",
       "\n",
       "    .dataframe tbody tr th {\n",
       "        vertical-align: top;\n",
       "    }\n",
       "</style>\n",
       "<table border=\"1\" class=\"dataframe\">\n",
       "  <thead>\n",
       "    <tr style=\"text-align: right;\">\n",
       "      <th></th>\n",
       "      <th>Unnamed: 0</th>\n",
       "      <th>type</th>\n",
       "      <th>review</th>\n",
       "      <th>label</th>\n",
       "      <th>file</th>\n",
       "    </tr>\n",
       "  </thead>\n",
       "  <tbody>\n",
       "    <tr>\n",
       "      <th>0</th>\n",
       "      <td>0</td>\n",
       "      <td>test</td>\n",
       "      <td>Once again Mr. Costner has dragged out a movie...</td>\n",
       "      <td>neg</td>\n",
       "      <td>0_2.txt</td>\n",
       "    </tr>\n",
       "    <tr>\n",
       "      <th>1</th>\n",
       "      <td>1</td>\n",
       "      <td>test</td>\n",
       "      <td>This is an example of why the majority of acti...</td>\n",
       "      <td>neg</td>\n",
       "      <td>10000_4.txt</td>\n",
       "    </tr>\n",
       "    <tr>\n",
       "      <th>2</th>\n",
       "      <td>2</td>\n",
       "      <td>test</td>\n",
       "      <td>First of all I hate those moronic rappers, who...</td>\n",
       "      <td>neg</td>\n",
       "      <td>10001_1.txt</td>\n",
       "    </tr>\n",
       "    <tr>\n",
       "      <th>3</th>\n",
       "      <td>3</td>\n",
       "      <td>test</td>\n",
       "      <td>Not even the Beatles could write songs everyon...</td>\n",
       "      <td>neg</td>\n",
       "      <td>10002_3.txt</td>\n",
       "    </tr>\n",
       "    <tr>\n",
       "      <th>4</th>\n",
       "      <td>4</td>\n",
       "      <td>test</td>\n",
       "      <td>Brass pictures (movies is not a fitting word f...</td>\n",
       "      <td>neg</td>\n",
       "      <td>10003_3.txt</td>\n",
       "    </tr>\n",
       "  </tbody>\n",
       "</table>\n",
       "</div>"
      ],
      "text/plain": [
       "   Unnamed: 0  type                                             review label  \\\n",
       "0           0  test  Once again Mr. Costner has dragged out a movie...   neg   \n",
       "1           1  test  This is an example of why the majority of acti...   neg   \n",
       "2           2  test  First of all I hate those moronic rappers, who...   neg   \n",
       "3           3  test  Not even the Beatles could write songs everyon...   neg   \n",
       "4           4  test  Brass pictures (movies is not a fitting word f...   neg   \n",
       "\n",
       "          file  \n",
       "0      0_2.txt  \n",
       "1  10000_4.txt  \n",
       "2  10001_1.txt  \n",
       "3  10002_3.txt  \n",
       "4  10003_3.txt  "
      ]
     },
     "execution_count": 7,
     "metadata": {},
     "output_type": "execute_result"
    }
   ],
   "source": [
    "data.head()"
   ]
  },
  {
   "cell_type": "code",
   "execution_count": 8,
   "metadata": {
    "collapsed": true
   },
   "outputs": [],
   "source": [
    "import re\n",
    "import string\n",
    "import nltk\n",
    "from nltk.corpus import stopwords\n",
    "from nltk.stem import PorterStemmer\n",
    "from nltk.stem.wordnet import WordNetLemmatizer\n",
    "\n",
    "stop = set(stopwords.words('english')) \n",
    "sno = nltk.stem.SnowballStemmer('english') \n",
    "\n",
    "def cleanhtml(sentence): \n",
    "    cleanr = re.compile('<.*?>')\n",
    "    cleantext = re.sub(cleanr, ' ', sentence)\n",
    "    return cleantext\n",
    "def cleanpunc(sentence): \n",
    "    cleaned = re.sub(r'[?|!|\\'|\"|#]',r'',sentence)\n",
    "    cleaned = re.sub(r'[.|,|)|(|\\|/]',r' ',cleaned)\n",
    "    return cleaned"
   ]
  },
  {
   "cell_type": "code",
   "execution_count": 9,
   "metadata": {
    "collapsed": true
   },
   "outputs": [],
   "source": [
    "i=0\n",
    "str1=' '\n",
    "final_string=[]\n",
    "all_positive_words=[] \n",
    "all_negative_words=[] \n",
    "s=''\n",
    "for sent in data['review'].values:\n",
    "    filtered_sentence=[]\n",
    "    sent=cleanhtml(sent) \n",
    "    for w in sent.split():\n",
    "        for cleaned_words in cleanpunc(w).split():\n",
    "            if((cleaned_words.isalpha()) & (len(cleaned_words)>2)):    \n",
    "                if(cleaned_words.lower() not in stop):\n",
    "                    s=(sno.stem(cleaned_words.lower())).encode('utf8')\n",
    "                    filtered_sentence.append(s)\n",
    "                    if (data['label'].values)[i] == \"pos\": \n",
    "                        all_positive_words.append(s) \n",
    "                    if(data['label'].values)[i] == \"neg\":\n",
    "                        all_negative_words.append(s) \n",
    "                else:\n",
    "                    continue\n",
    "            else:\n",
    "                continue \n",
    "    \n",
    "    str1 = b\" \".join(filtered_sentence) \n",
    "    \n",
    "    final_string.append(str1)\n",
    "    i+=1"
   ]
  },
  {
   "cell_type": "code",
   "execution_count": 10,
   "metadata": {
    "collapsed": true
   },
   "outputs": [],
   "source": [
    "data['cleaned_review']=final_string"
   ]
  },
  {
   "cell_type": "code",
   "execution_count": 11,
   "metadata": {
    "collapsed": true
   },
   "outputs": [],
   "source": [
    "def posneg(x):\n",
    "    if x==\"neg\":\n",
    "        return 0\n",
    "    elif x==\"pos\":\n",
    "        return 1\n",
    "    return x\n",
    "\n",
    "filtered_score = data[\"label\"].map(posneg)\n",
    "data[\"score\"] = filtered_score"
   ]
  },
  {
   "cell_type": "code",
   "execution_count": 12,
   "metadata": {
    "collapsed": true
   },
   "outputs": [],
   "source": [
    "test_data = data[:25000]\n",
    "train_data = data[25000:50000]"
   ]
  },
  {
   "cell_type": "code",
   "execution_count": 13,
   "metadata": {
    "collapsed": true
   },
   "outputs": [],
   "source": [
    "X_train = train_data[\"cleaned_review\"]\n",
    "y_train = train_data[\"score\"]\n",
    "\n",
    "X_test = test_data[\"cleaned_review\"]\n",
    "y_test = test_data[\"score\"]"
   ]
  },
  {
   "cell_type": "code",
   "execution_count": 14,
   "metadata": {
    "collapsed": true
   },
   "outputs": [],
   "source": [
    "y_train=y_train.astype('int')\n",
    "y_test=y_test.astype('int')"
   ]
  },
  {
   "cell_type": "code",
   "execution_count": 15,
   "metadata": {
    "collapsed": true
   },
   "outputs": [],
   "source": [
    "#TF_IDF\n",
    "from sklearn.feature_extraction.text import TfidfTransformer\n",
    "from sklearn.feature_extraction.text import TfidfVectorizer\n",
    "\n",
    "tf_idf_vect = TfidfVectorizer(ngram_range=(1,2))\n",
    "tf_idf_train = tf_idf_vect.fit_transform(X_train.values)\n",
    "tf_idf_test = tf_idf_vect.transform(X_test.values)"
   ]
  },
  {
   "cell_type": "code",
   "execution_count": 16,
   "metadata": {},
   "outputs": [
    {
     "data": {
      "text/plain": [
       "10"
      ]
     },
     "execution_count": 16,
     "metadata": {},
     "output_type": "execute_result"
    }
   ],
   "source": [
    "alpha_range = list(np.arange(1,50,5))\n",
    "len(alpha_range)"
   ]
  },
  {
   "cell_type": "code",
   "execution_count": 17,
   "metadata": {},
   "outputs": [
    {
     "name": "stderr",
     "output_type": "stream",
     "text": [
      "f:\\Anaconda2\\lib\\site-packages\\sklearn\\cross_validation.py:44: DeprecationWarning: This module was deprecated in version 0.18 in favor of the model_selection module into which all the refactored classes and functions are moved. Also note that the interface of the new CV iterators are different from that of this module. This module will be removed in 0.20.\n",
      "  \"This module will be removed in 0.20.\", DeprecationWarning)\n"
     ]
    },
    {
     "name": "stdout",
     "output_type": "stream",
     "text": [
      "1 0.8302\n",
      "6 0.83556\n",
      "11 0.83404\n",
      "16 0.8324\n",
      "21 0.83128\n",
      "26 0.82992\n",
      "31 0.82884\n",
      "36 0.82736\n",
      "41 0.82584\n",
      "46 0.82452\n"
     ]
    }
   ],
   "source": [
    "from sklearn.feature_extraction.text import CountVectorizer\n",
    "from sklearn.metrics import confusion_matrix\n",
    "from sklearn import metrics\n",
    "from nltk.stem.porter import PorterStemmer\n",
    "from sklearn.naive_bayes import MultinomialNB\n",
    "\n",
    "from sklearn.cross_validation import train_test_split\n",
    "from sklearn.metrics import accuracy_score\n",
    "from sklearn.cross_validation import cross_val_score\n",
    "from collections import Counter\n",
    "from sklearn.metrics import accuracy_score\n",
    "from sklearn import cross_validation\n",
    "\n",
    "alpha_scores=[]\n",
    "\n",
    "for a in alpha_range:\n",
    "    clf = MultinomialNB(alpha=a)\n",
    "    scores = cross_val_score(clf, tf_idf_train, y_train, cv=5, scoring='accuracy')\n",
    "    alpha_scores.append(scores.mean())\n",
    "    print(a,scores.mean())"
   ]
  },
  {
   "cell_type": "code",
   "execution_count": 18,
   "metadata": {},
   "outputs": [
    {
     "data": {
      "image/png": "[encoded data removed]",
      "text/plain": [
       "<matplotlib.figure.Figure at 0x21787079eb8>"
      ]
     },
     "metadata": {},
     "output_type": "display_data"
    }
   ],
   "source": [
    "MSE = [1 - x for x in alpha_scores]\n",
    "\n",
    "\n",
    "optimal_alpha_bnb = alpha_range[MSE.index(min(MSE))]\n",
    "\n",
    "# plot misclassification error vs alpha\n",
    "plt.plot(alpha_range, MSE)\n",
    "\n",
    "plt.xlabel('hyperparameter alpha')\n",
    "plt.ylabel('Misclassification Error')\n",
    "plt.show()"
   ]
  },
  {
   "cell_type": "code",
   "execution_count": 19,
   "metadata": {},
   "outputs": [
    {
     "data": {
      "text/plain": [
       "6"
      ]
     },
     "execution_count": 19,
     "metadata": {},
     "output_type": "execute_result"
    }
   ],
   "source": [
    "optimal_alpha_bnb"
   ]
  },
  {
   "cell_type": "code",
   "execution_count": 20,
   "metadata": {},
   "outputs": [
    {
     "data": {
      "text/plain": [
       "MultinomialNB(alpha=6, class_prior=None, fit_prior=True)"
      ]
     },
     "execution_count": 20,
     "metadata": {},
     "output_type": "execute_result"
    }
   ],
   "source": [
    "clf = MultinomialNB(alpha=6)\n",
    "clf.fit(tf_idf_train,y_train)"
   ]
  },
  {
   "cell_type": "code",
   "execution_count": 21,
   "metadata": {
    "collapsed": true
   },
   "outputs": [],
   "source": [
    "y_pred_test = clf.predict(tf_idf_test)"
   ]
  },
  {
   "cell_type": "code",
   "execution_count": 22,
   "metadata": {},
   "outputs": [
    {
     "name": "stdout",
     "output_type": "stream",
     "text": [
      "\n",
      "****Test accuracy is 85.508\n"
     ]
    }
   ],
   "source": [
    "acc = accuracy_score(y_test, y_pred_test, normalize=True) * float(100)\n",
    "print('\\n****Test accuracy is',(acc))"
   ]
  },
  {
   "cell_type": "code",
   "execution_count": 23,
   "metadata": {},
   "outputs": [
    {
     "data": {
      "text/plain": [
       "array([[11139,  1361],\n",
       "       [ 2262, 10238]])"
      ]
     },
     "execution_count": 23,
     "metadata": {},
     "output_type": "execute_result"
    }
   ],
   "source": [
    "cm_test = confusion_matrix(y_test,y_pred_test)\n",
    "cm_test"
   ]
  },
  {
   "cell_type": "code",
   "execution_count": 24,
   "metadata": {},
   "outputs": [
    {
     "data": {
      "text/plain": [
       "<matplotlib.axes._subplots.AxesSubplot at 0x21783184b70>"
      ]
     },
     "execution_count": 24,
     "metadata": {},
     "output_type": "execute_result"
    }
   ],
   "source": [
    "import seaborn as sns\n",
    "sns.heatmap(cm_test,annot=True,fmt='d')"
   ]
  },
  {
   "cell_type": "code",
   "execution_count": 25,
   "metadata": {
    "collapsed": true
   },
   "outputs": [],
   "source": [
    "y_pred_train = clf.predict(tf_idf_train)"
   ]
  },
  {
   "cell_type": "code",
   "execution_count": 26,
   "metadata": {},
   "outputs": [
    {
     "name": "stdout",
     "output_type": "stream",
     "text": [
      "\n",
      "****accuracy is 93%\n"
     ]
    }
   ],
   "source": [
    "acc = accuracy_score(y_train, y_pred_train, normalize=True) * float(100)\n",
    "print('\\n****accuracy is %d%%' % (acc))"
   ]
  },
  {
   "cell_type": "code",
   "execution_count": 27,
   "metadata": {},
   "outputs": [
    {
     "data": {
      "text/plain": [
       "array([[11828,   672],\n",
       "       [  921, 11579]])"
      ]
     },
     "execution_count": 27,
     "metadata": {},
     "output_type": "execute_result"
    }
   ],
   "source": [
    "cm_train = confusion_matrix(y_train,y_pred_train)\n",
    "cm_train"
   ]
  },
  {
   "cell_type": "code",
   "execution_count": 28,
   "metadata": {},
   "outputs": [
    {
     "name": "stdout",
     "output_type": "stream",
     "text": [
      "total actual negative points 13401\n",
      "total actual positive points 11599\n"
     ]
    }
   ],
   "source": [
    "tn=11139;fn=1361;fp=2262;tp=10238;\n",
    "n=tn+fp\n",
    "p=fn+tp\n",
    "print(\"total actual negative points %d\"%(n))\n",
    "print(\"total actual positive points %d\"%(p))"
   ]
  },
  {
   "cell_type": "code",
   "execution_count": 29,
   "metadata": {},
   "outputs": [
    {
     "name": "stdout",
     "output_type": "stream",
     "text": [
      "Precision 0.81904\n",
      "Recall 0.8826622984740063\n",
      "f1-score 0.8496618116934312\n"
     ]
    }
   ],
   "source": [
    "precision=tp/(tp+fp)\n",
    "print(\"Precision\",precision)\n",
    "recall = tp/p\n",
    "print(\"Recall\",recall)\n",
    "f1 = 2*((precision*recall)/(precision+recall))\n",
    "print(\"f1-score\",f1)"
   ]
  },
  {
   "cell_type": "code",
   "execution_count": null,
   "metadata": {
    "collapsed": true
   },
   "outputs": [],
   "source": []
  },
  {
   "cell_type": "code",
   "execution_count": null,
   "metadata": {
    "collapsed": true
   },
   "outputs": [],
   "source": []
  },
  {
   "cell_type": "code",
   "execution_count": null,
   "metadata": {
    "collapsed": true
   },
   "outputs": [],
   "source": []
  }
 ],
 "metadata": {
  "kernelspec": {
   "display_name": "Python 3",
   "language": "python",
   "name": "python3"
  },
  "language_info": {
   "codemirror_mode": {
    "name": "ipython",
    "version": 3
   },
   "file_extension": ".py",
   "mimetype": "text/x-python",
   "name": "python",
   "nbconvert_exporter": "python",
   "pygments_lexer": "ipython3",
   "version": "3.6.1"
  }
 },
 "nbformat": 4,
 "nbformat_minor": 2
}
